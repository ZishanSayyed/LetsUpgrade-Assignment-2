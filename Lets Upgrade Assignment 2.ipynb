{
 "cells": [
  {
   "cell_type": "markdown",
   "metadata": {},
   "source": [
    "Questions 1:\n",
    "Create an empty list. Accept 10 numbers from the user and append to it the list if it is an even number"
   ]
  },
  {
   "cell_type": "code",
   "execution_count": 17,
   "metadata": {},
   "outputs": [
    {
     "name": "stdout",
     "output_type": "stream",
     "text": [
      "1 2 3 4 5 6 7 8 9 10 11 <class 'int'>\n"
     ]
    }
   ],
   "source": [
    "\n",
    "i=1\n",
    "while i<=11:\n",
    "    print(i,end=\" \")\n",
    "    i=i+1\n",
    "print(type(i))"
   ]
  },
  {
   "cell_type": "markdown",
   "metadata": {},
   "source": [
    "question 2:\n",
    "\n",
    "Create a notebook on LIST COMPREHENSION. \n",
    "\n",
    "This exercise is to put you in a Self learning mode"
   ]
  },
  {
   "cell_type": "code",
   "execution_count": 20,
   "metadata": {},
   "outputs": [
    {
     "name": "stdout",
     "output_type": "stream",
     "text": [
      "zishan\n",
      "<class 'str'>\n",
      "['z', 'i', 's', 'h', 'a', 'n']\n",
      "<class 'list'>\n"
     ]
    }
   ],
   "source": [
    "#converting string into list \n",
    "s=\"zishan\"\n",
    "print(s)\n",
    "print(type(s))\n",
    "l=list(s)\n",
    "print(l)\n",
    "print(type(l))\n"
   ]
  },
  {
   "cell_type": "code",
   "execution_count": 24,
   "metadata": {},
   "outputs": [
    {
     "name": "stdout",
     "output_type": "stream",
     "text": [
      "['z', 'i', 's', 'h', 'a', 'n', 's', 'a', 'y', 'y', 'e', 'd']\n",
      "['z', 'i', 's']\n",
      "['s', 'h', 'a', 'n']\n",
      "['n', 's', 'a', 'y', 'y', 'e', 'd']\n",
      "['z', 'i', 's', 'h', 'a', 'n', 's']\n"
     ]
    }
   ],
   "source": [
    "#sclicing of list \n",
    "s2=\"zishansayyed\"\n",
    "l2=list(s2)\n",
    "print(l2)\n",
    "#printing 1st 3 elements from the list \n",
    "print(l2[:3])\n",
    "#printing 2 to 5 elemtes\n",
    "print(l2[2:6])\n",
    "#pritnng elements from 5th to last \n",
    "print(l2[5:])\n",
    "#printing elements before last five words \n",
    "print(l2[:-5])\n"
   ]
  },
  {
   "cell_type": "code",
   "execution_count": 37,
   "metadata": {},
   "outputs": [
    {
     "name": "stdout",
     "output_type": "stream",
     "text": [
      "['z', 'y', 'y', 's', 's', 'n', 'i', 'h', 'e', 'd', 'a', 'a']\n"
     ]
    }
   ],
   "source": [
    "l2.reverse()\n",
    "print(l2)\n",
    "\n"
   ]
  },
  {
   "cell_type": "code",
   "execution_count": 38,
   "metadata": {},
   "outputs": [],
   "source": [
    "l2.sort()"
   ]
  },
  {
   "cell_type": "code",
   "execution_count": 41,
   "metadata": {},
   "outputs": [],
   "source": [
    "l2.append(\"Y\")"
   ]
  },
  {
   "cell_type": "code",
   "execution_count": 43,
   "metadata": {},
   "outputs": [],
   "source": [
    "l2.remove(\"Yunus\")"
   ]
  },
  {
   "cell_type": "code",
   "execution_count": 44,
   "metadata": {},
   "outputs": [
    {
     "data": {
      "text/plain": [
       "['a', 'a', 'd', 'e', 'h', 'i', 'n', 's', 's', 'y', 'y', 'z', 'Y']"
      ]
     },
     "execution_count": 44,
     "metadata": {},
     "output_type": "execute_result"
    }
   ],
   "source": [
    "l2"
   ]
  },
  {
   "cell_type": "markdown",
   "metadata": {},
   "source": [
    "Questions 3:\n",
    "You have seen in the videos how powerful dictionary data structure is.\n",
    "In this assignment, given a number n, you have to write a program that generates a dictionary d which\n",
    "contains (i, i*i), where i is from 1 to n (both included).\n",
    "Then you have to just print this dictionary d.\n",
    "Example:\n",
    "Input: 4\n",
    "will give output as\n",
    "{1: 1, 2: 4, 3: 9, 4: 16}\n",
    "Input Format:\n",
    "Take the number n in a single line.\n",
    "Output Format:\n",
    "Print the dictionary d in a single line."
   ]
  },
  {
   "cell_type": "code",
   "execution_count": null,
   "metadata": {},
   "outputs": [],
   "source": [
    "dic={}\n",
    "i=True\n",
    "while i:\n",
    "    value=input(\"Enter the value \")\n",
    "    out=value*value\n",
    "    outp=input(out)"
   ]
  },
  {
   "cell_type": "code",
   "execution_count": 3,
   "metadata": {},
   "outputs": [
    {
     "data": {
      "text/plain": [
       "{1: 1, 2: 4, 3: 9, 4: 16}"
      ]
     },
     "execution_count": 3,
     "metadata": {},
     "output_type": "execute_result"
    }
   ],
   "source": [
    "d={i:i*i for i in range(1,5)}\n",
    "d"
   ]
  },
  {
   "cell_type": "markdown",
   "metadata": {},
   "source": [
    "Questions 4:\n",
    "\n",
    "Write a program to compute the distance between the current position after\n",
    "a sequence of movement and original point. If the distance is a float, then\n",
    "just print the nearest integer (use round() function for that and then convert\n",
    "it into an integer).\n",
    "\n",
    "    "
   ]
  },
  {
   "cell_type": "code",
   "execution_count": 1,
   "metadata": {},
   "outputs": [
    {
     "name": "stdout",
     "output_type": "stream",
     "text": [
      "{2: 'RIGHT', 3: 'DOWN', 5: 'UP'}\n",
      "{4: 'UP', 5: 'DOWN', 3: 'LEFT', 2: 'RIGHT'}\n",
      "{2: 'RIGHT', 3: 'LEFT', 5: 'DOWN', 4: 'UP'}\n",
      "{4: 'UP', 5: 'DOWN', 3: 'LEFT', 2: 'RIGHT'}\n"
     ]
    }
   ],
   "source": [
    "d1={2:\"RIGHT\",3:\"LEFT\",3:\"DOWN\",5:\"UP\"}\n",
    "d2={4:\"UP\",5:\"DOWN\",3:\"LEFT\",2:\"RIGHT\"}\n",
    "\n",
    "print(d1)\n",
    "print(d2)\n",
    "d1.update(d2)\n",
    "print(d1)\n",
    "print(d2)"
   ]
  },
  {
   "cell_type": "markdown",
   "metadata": {},
   "source": [
    "# END"
   ]
  }
 ],
 "metadata": {
  "kernelspec": {
   "display_name": "Python 3",
   "language": "python",
   "name": "python3"
  },
  "language_info": {
   "codemirror_mode": {
    "name": "ipython",
    "version": 3
   },
   "file_extension": ".py",
   "mimetype": "text/x-python",
   "name": "python",
   "nbconvert_exporter": "python",
   "pygments_lexer": "ipython3",
   "version": "3.8.3"
  }
 },
 "nbformat": 4,
 "nbformat_minor": 4
}
